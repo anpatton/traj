{
 "cells": [
  {
   "cell_type": "code",
   "execution_count": null,
   "id": "34f680d5",
   "metadata": {},
   "outputs": [],
   "source": [
    "import numpy as np\n",
    "from traj.dist import calc_distances_mvo\n",
    "\n",
    "# Example with lists\n",
    "base_list = [1, 2, 3]\n",
    "comps_list = [[1, 2, 3], [4, 5, 6], [99, 99, 99]]\n",
    "result1 = calc_distances_mvo(base_vector=base_list, comparison_vectors=comps_list, distance_metric=\"cosine\")\n",
    "print(result1)\n",
    "\n",
    "# Example with arrays\n",
    "base_array = np.array([1, 2, 3])\n",
    "comps_array = [np.array([1, 2, 3]), np.array([4, 5, 6]), np.array([99, 99, 99])]\n",
    "result2 = calc_distances_mvo(base_vector=base_list, comparison_vectors=comps_list, distance_metric=\"cosine\")\n",
    "print(result2)"
   ]
  }
 ],
 "metadata": {
  "language_info": {
   "name": "plaintext"
  }
 },
 "nbformat": 4,
 "nbformat_minor": 5
}
